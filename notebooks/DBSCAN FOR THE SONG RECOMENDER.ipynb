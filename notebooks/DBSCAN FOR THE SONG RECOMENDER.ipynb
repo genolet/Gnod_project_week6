{
 "cells": [
  {
   "cell_type": "markdown",
   "id": "fafe7f1c",
   "metadata": {},
   "source": [
    "## Loading libraries"
   ]
  },
  {
   "cell_type": "code",
   "execution_count": 1,
   "id": "826c5266",
   "metadata": {},
   "outputs": [],
   "source": [
    "import pandas as pd\n",
    "import numpy as np\n",
    "from sklearn.datasets import make_classification\n",
    "from sklearn.cluster import DBSCAN\n",
    "from sklearn.mixture import GaussianMixture\n",
    "from scipy.spatial import distance_matrix\n",
    "import matplotlib.pyplot as plt"
   ]
  },
  {
   "cell_type": "markdown",
   "id": "c14b11e5",
   "metadata": {},
   "source": [
    "Import dataframe"
   ]
  },
  {
   "cell_type": "code",
   "execution_count": 4,
   "id": "f585fee4",
   "metadata": {},
   "outputs": [],
   "source": [
    "data = pd.read_csv(\"songs_df_final.csv\")"
   ]
  },
  {
   "cell_type": "code",
   "execution_count": 5,
   "id": "5455dce0",
   "metadata": {},
   "outputs": [
    {
     "data": {
      "text/html": [
       "<div>\n",
       "<style scoped>\n",
       "    .dataframe tbody tr th:only-of-type {\n",
       "        vertical-align: middle;\n",
       "    }\n",
       "\n",
       "    .dataframe tbody tr th {\n",
       "        vertical-align: top;\n",
       "    }\n",
       "\n",
       "    .dataframe thead th {\n",
       "        text-align: right;\n",
       "    }\n",
       "</style>\n",
       "<table border=\"1\" class=\"dataframe\">\n",
       "  <thead>\n",
       "    <tr style=\"text-align: right;\">\n",
       "      <th></th>\n",
       "      <th>song</th>\n",
       "      <th>artist</th>\n",
       "      <th>danceability</th>\n",
       "      <th>energy</th>\n",
       "      <th>loudness</th>\n",
       "      <th>speechiness</th>\n",
       "      <th>acousticness</th>\n",
       "      <th>instrumentalness</th>\n",
       "      <th>liveness</th>\n",
       "      <th>valence</th>\n",
       "      <th>tempo</th>\n",
       "      <th>id</th>\n",
       "      <th>duration_ms</th>\n",
       "      <th>song_label</th>\n",
       "    </tr>\n",
       "  </thead>\n",
       "  <tbody>\n",
       "    <tr>\n",
       "      <th>0</th>\n",
       "      <td>Super Freaky Girl</td>\n",
       "      <td>Nicki Minaj</td>\n",
       "      <td>0.950</td>\n",
       "      <td>0.891</td>\n",
       "      <td>-2.653</td>\n",
       "      <td>0.2410</td>\n",
       "      <td>0.06450</td>\n",
       "      <td>0.000018</td>\n",
       "      <td>0.3090</td>\n",
       "      <td>0.912</td>\n",
       "      <td>133.010</td>\n",
       "      <td>4C6Uex2ILwJi9sZXRdmqXp</td>\n",
       "      <td>170977</td>\n",
       "      <td>H</td>\n",
       "    </tr>\n",
       "    <tr>\n",
       "      <th>1</th>\n",
       "      <td>As It Was</td>\n",
       "      <td>Harry Styles</td>\n",
       "      <td>0.520</td>\n",
       "      <td>0.731</td>\n",
       "      <td>-5.338</td>\n",
       "      <td>0.0557</td>\n",
       "      <td>0.34200</td>\n",
       "      <td>0.001010</td>\n",
       "      <td>0.3110</td>\n",
       "      <td>0.662</td>\n",
       "      <td>173.930</td>\n",
       "      <td>4LRPiXqCikLlN15c3yImP7</td>\n",
       "      <td>167303</td>\n",
       "      <td>H</td>\n",
       "    </tr>\n",
       "    <tr>\n",
       "      <th>2</th>\n",
       "      <td>About Damn Time</td>\n",
       "      <td>Lizzo</td>\n",
       "      <td>0.836</td>\n",
       "      <td>0.743</td>\n",
       "      <td>-6.305</td>\n",
       "      <td>0.0656</td>\n",
       "      <td>0.09950</td>\n",
       "      <td>0.000000</td>\n",
       "      <td>0.3350</td>\n",
       "      <td>0.722</td>\n",
       "      <td>108.966</td>\n",
       "      <td>1PckUlxKqWQs3RlWXVBLw3</td>\n",
       "      <td>191822</td>\n",
       "      <td>H</td>\n",
       "    </tr>\n",
       "    <tr>\n",
       "      <th>3</th>\n",
       "      <td>Break My Soul</td>\n",
       "      <td>Beyonce</td>\n",
       "      <td>0.687</td>\n",
       "      <td>0.887</td>\n",
       "      <td>-5.040</td>\n",
       "      <td>0.0826</td>\n",
       "      <td>0.05750</td>\n",
       "      <td>0.000002</td>\n",
       "      <td>0.2700</td>\n",
       "      <td>0.853</td>\n",
       "      <td>114.941</td>\n",
       "      <td>2KukL7UlQ8TdvpaA7bY3ZJ</td>\n",
       "      <td>278282</td>\n",
       "      <td>H</td>\n",
       "    </tr>\n",
       "    <tr>\n",
       "      <th>4</th>\n",
       "      <td>Running Up That Hill (A Deal With God)</td>\n",
       "      <td>Kate Bush</td>\n",
       "      <td>0.625</td>\n",
       "      <td>0.533</td>\n",
       "      <td>-11.903</td>\n",
       "      <td>0.0596</td>\n",
       "      <td>0.65900</td>\n",
       "      <td>0.002660</td>\n",
       "      <td>0.0546</td>\n",
       "      <td>0.139</td>\n",
       "      <td>108.296</td>\n",
       "      <td>29d0nY7TzCoi22XBqDQkiP</td>\n",
       "      <td>300840</td>\n",
       "      <td>H</td>\n",
       "    </tr>\n",
       "    <tr>\n",
       "      <th>...</th>\n",
       "      <td>...</td>\n",
       "      <td>...</td>\n",
       "      <td>...</td>\n",
       "      <td>...</td>\n",
       "      <td>...</td>\n",
       "      <td>...</td>\n",
       "      <td>...</td>\n",
       "      <td>...</td>\n",
       "      <td>...</td>\n",
       "      <td>...</td>\n",
       "      <td>...</td>\n",
       "      <td>...</td>\n",
       "      <td>...</td>\n",
       "      <td>...</td>\n",
       "    </tr>\n",
       "    <tr>\n",
       "      <th>2309</th>\n",
       "      <td>You And Me Jesus</td>\n",
       "      <td>Jake Hess</td>\n",
       "      <td>0.725</td>\n",
       "      <td>0.183</td>\n",
       "      <td>-20.140</td>\n",
       "      <td>0.0428</td>\n",
       "      <td>0.81800</td>\n",
       "      <td>0.000000</td>\n",
       "      <td>0.1090</td>\n",
       "      <td>0.510</td>\n",
       "      <td>116.026</td>\n",
       "      <td>758hjU9V1HnECTxhqgCbVJ</td>\n",
       "      <td>204000</td>\n",
       "      <td>R</td>\n",
       "    </tr>\n",
       "    <tr>\n",
       "      <th>2310</th>\n",
       "      <td>I Knew I Loved You</td>\n",
       "      <td>Savage Garden</td>\n",
       "      <td>0.610</td>\n",
       "      <td>0.497</td>\n",
       "      <td>-9.880</td>\n",
       "      <td>0.0279</td>\n",
       "      <td>0.32000</td>\n",
       "      <td>0.000061</td>\n",
       "      <td>0.0884</td>\n",
       "      <td>0.739</td>\n",
       "      <td>85.031</td>\n",
       "      <td>6nozDLxeL0TE4MS9GqYU1v</td>\n",
       "      <td>250360</td>\n",
       "      <td>R</td>\n",
       "    </tr>\n",
       "    <tr>\n",
       "      <th>2311</th>\n",
       "      <td>Your Mother Should Have Told You</td>\n",
       "      <td>Robert Palmer</td>\n",
       "      <td>0.474</td>\n",
       "      <td>0.965</td>\n",
       "      <td>-8.327</td>\n",
       "      <td>0.0493</td>\n",
       "      <td>0.03850</td>\n",
       "      <td>0.002880</td>\n",
       "      <td>0.1710</td>\n",
       "      <td>0.544</td>\n",
       "      <td>159.875</td>\n",
       "      <td>2CqXrDR4wIr2K4rh4LfbA6</td>\n",
       "      <td>221427</td>\n",
       "      <td>R</td>\n",
       "    </tr>\n",
       "    <tr>\n",
       "      <th>2312</th>\n",
       "      <td>Where Is Everybody?</td>\n",
       "      <td>Nine Inch Nails</td>\n",
       "      <td>0.625</td>\n",
       "      <td>0.767</td>\n",
       "      <td>-5.753</td>\n",
       "      <td>0.0477</td>\n",
       "      <td>0.00166</td>\n",
       "      <td>0.000789</td>\n",
       "      <td>0.0900</td>\n",
       "      <td>0.792</td>\n",
       "      <td>144.013</td>\n",
       "      <td>3igeWkfoyimX5hfD3DbpER</td>\n",
       "      <td>340200</td>\n",
       "      <td>R</td>\n",
       "    </tr>\n",
       "    <tr>\n",
       "      <th>2313</th>\n",
       "      <td>Kitty Kat</td>\n",
       "      <td>Beyoncé</td>\n",
       "      <td>0.810</td>\n",
       "      <td>0.386</td>\n",
       "      <td>-7.846</td>\n",
       "      <td>0.3110</td>\n",
       "      <td>0.05290</td>\n",
       "      <td>0.009440</td>\n",
       "      <td>0.0969</td>\n",
       "      <td>0.506</td>\n",
       "      <td>157.919</td>\n",
       "      <td>5UhR5ud9gS6n0PgzsjZmQd</td>\n",
       "      <td>235387</td>\n",
       "      <td>R</td>\n",
       "    </tr>\n",
       "  </tbody>\n",
       "</table>\n",
       "<p>2314 rows × 14 columns</p>\n",
       "</div>"
      ],
      "text/plain": [
       "                                        song           artist  danceability  \\\n",
       "0                          Super Freaky Girl      Nicki Minaj         0.950   \n",
       "1                                  As It Was     Harry Styles         0.520   \n",
       "2                            About Damn Time            Lizzo         0.836   \n",
       "3                              Break My Soul          Beyonce         0.687   \n",
       "4     Running Up That Hill (A Deal With God)        Kate Bush         0.625   \n",
       "...                                      ...              ...           ...   \n",
       "2309                        You And Me Jesus        Jake Hess         0.725   \n",
       "2310                      I Knew I Loved You    Savage Garden         0.610   \n",
       "2311        Your Mother Should Have Told You    Robert Palmer         0.474   \n",
       "2312                     Where Is Everybody?  Nine Inch Nails         0.625   \n",
       "2313                               Kitty Kat          Beyoncé         0.810   \n",
       "\n",
       "      energy  loudness  speechiness  acousticness  instrumentalness  liveness  \\\n",
       "0      0.891    -2.653       0.2410       0.06450          0.000018    0.3090   \n",
       "1      0.731    -5.338       0.0557       0.34200          0.001010    0.3110   \n",
       "2      0.743    -6.305       0.0656       0.09950          0.000000    0.3350   \n",
       "3      0.887    -5.040       0.0826       0.05750          0.000002    0.2700   \n",
       "4      0.533   -11.903       0.0596       0.65900          0.002660    0.0546   \n",
       "...      ...       ...          ...           ...               ...       ...   \n",
       "2309   0.183   -20.140       0.0428       0.81800          0.000000    0.1090   \n",
       "2310   0.497    -9.880       0.0279       0.32000          0.000061    0.0884   \n",
       "2311   0.965    -8.327       0.0493       0.03850          0.002880    0.1710   \n",
       "2312   0.767    -5.753       0.0477       0.00166          0.000789    0.0900   \n",
       "2313   0.386    -7.846       0.3110       0.05290          0.009440    0.0969   \n",
       "\n",
       "      valence    tempo                      id  duration_ms song_label  \n",
       "0       0.912  133.010  4C6Uex2ILwJi9sZXRdmqXp       170977          H  \n",
       "1       0.662  173.930  4LRPiXqCikLlN15c3yImP7       167303          H  \n",
       "2       0.722  108.966  1PckUlxKqWQs3RlWXVBLw3       191822          H  \n",
       "3       0.853  114.941  2KukL7UlQ8TdvpaA7bY3ZJ       278282          H  \n",
       "4       0.139  108.296  29d0nY7TzCoi22XBqDQkiP       300840          H  \n",
       "...       ...      ...                     ...          ...        ...  \n",
       "2309    0.510  116.026  758hjU9V1HnECTxhqgCbVJ       204000          R  \n",
       "2310    0.739   85.031  6nozDLxeL0TE4MS9GqYU1v       250360          R  \n",
       "2311    0.544  159.875  2CqXrDR4wIr2K4rh4LfbA6       221427          R  \n",
       "2312    0.792  144.013  3igeWkfoyimX5hfD3DbpER       340200          R  \n",
       "2313    0.506  157.919  5UhR5ud9gS6n0PgzsjZmQd       235387          R  \n",
       "\n",
       "[2314 rows x 14 columns]"
      ]
     },
     "execution_count": 5,
     "metadata": {},
     "output_type": "execute_result"
    }
   ],
   "source": [
    "data"
   ]
  },
  {
   "cell_type": "markdown",
   "id": "8eb9d540",
   "metadata": {},
   "source": [
    "We drop the categorical columns"
   ]
  },
  {
   "cell_type": "code",
   "execution_count": 15,
   "id": "e8d90ab0",
   "metadata": {},
   "outputs": [
    {
     "data": {
      "text/html": [
       "<div>\n",
       "<style scoped>\n",
       "    .dataframe tbody tr th:only-of-type {\n",
       "        vertical-align: middle;\n",
       "    }\n",
       "\n",
       "    .dataframe tbody tr th {\n",
       "        vertical-align: top;\n",
       "    }\n",
       "\n",
       "    .dataframe thead th {\n",
       "        text-align: right;\n",
       "    }\n",
       "</style>\n",
       "<table border=\"1\" class=\"dataframe\">\n",
       "  <thead>\n",
       "    <tr style=\"text-align: right;\">\n",
       "      <th></th>\n",
       "      <th>danceability</th>\n",
       "      <th>energy</th>\n",
       "      <th>loudness</th>\n",
       "      <th>speechiness</th>\n",
       "      <th>acousticness</th>\n",
       "      <th>instrumentalness</th>\n",
       "      <th>liveness</th>\n",
       "      <th>valence</th>\n",
       "      <th>tempo</th>\n",
       "      <th>duration_ms</th>\n",
       "    </tr>\n",
       "  </thead>\n",
       "  <tbody>\n",
       "    <tr>\n",
       "      <th>0</th>\n",
       "      <td>0.950</td>\n",
       "      <td>0.891</td>\n",
       "      <td>-2.653</td>\n",
       "      <td>0.2410</td>\n",
       "      <td>0.06450</td>\n",
       "      <td>0.000018</td>\n",
       "      <td>0.3090</td>\n",
       "      <td>0.912</td>\n",
       "      <td>133.010</td>\n",
       "      <td>170977</td>\n",
       "    </tr>\n",
       "    <tr>\n",
       "      <th>1</th>\n",
       "      <td>0.520</td>\n",
       "      <td>0.731</td>\n",
       "      <td>-5.338</td>\n",
       "      <td>0.0557</td>\n",
       "      <td>0.34200</td>\n",
       "      <td>0.001010</td>\n",
       "      <td>0.3110</td>\n",
       "      <td>0.662</td>\n",
       "      <td>173.930</td>\n",
       "      <td>167303</td>\n",
       "    </tr>\n",
       "    <tr>\n",
       "      <th>2</th>\n",
       "      <td>0.836</td>\n",
       "      <td>0.743</td>\n",
       "      <td>-6.305</td>\n",
       "      <td>0.0656</td>\n",
       "      <td>0.09950</td>\n",
       "      <td>0.000000</td>\n",
       "      <td>0.3350</td>\n",
       "      <td>0.722</td>\n",
       "      <td>108.966</td>\n",
       "      <td>191822</td>\n",
       "    </tr>\n",
       "    <tr>\n",
       "      <th>3</th>\n",
       "      <td>0.687</td>\n",
       "      <td>0.887</td>\n",
       "      <td>-5.040</td>\n",
       "      <td>0.0826</td>\n",
       "      <td>0.05750</td>\n",
       "      <td>0.000002</td>\n",
       "      <td>0.2700</td>\n",
       "      <td>0.853</td>\n",
       "      <td>114.941</td>\n",
       "      <td>278282</td>\n",
       "    </tr>\n",
       "    <tr>\n",
       "      <th>4</th>\n",
       "      <td>0.625</td>\n",
       "      <td>0.533</td>\n",
       "      <td>-11.903</td>\n",
       "      <td>0.0596</td>\n",
       "      <td>0.65900</td>\n",
       "      <td>0.002660</td>\n",
       "      <td>0.0546</td>\n",
       "      <td>0.139</td>\n",
       "      <td>108.296</td>\n",
       "      <td>300840</td>\n",
       "    </tr>\n",
       "    <tr>\n",
       "      <th>...</th>\n",
       "      <td>...</td>\n",
       "      <td>...</td>\n",
       "      <td>...</td>\n",
       "      <td>...</td>\n",
       "      <td>...</td>\n",
       "      <td>...</td>\n",
       "      <td>...</td>\n",
       "      <td>...</td>\n",
       "      <td>...</td>\n",
       "      <td>...</td>\n",
       "    </tr>\n",
       "    <tr>\n",
       "      <th>2309</th>\n",
       "      <td>0.725</td>\n",
       "      <td>0.183</td>\n",
       "      <td>-20.140</td>\n",
       "      <td>0.0428</td>\n",
       "      <td>0.81800</td>\n",
       "      <td>0.000000</td>\n",
       "      <td>0.1090</td>\n",
       "      <td>0.510</td>\n",
       "      <td>116.026</td>\n",
       "      <td>204000</td>\n",
       "    </tr>\n",
       "    <tr>\n",
       "      <th>2310</th>\n",
       "      <td>0.610</td>\n",
       "      <td>0.497</td>\n",
       "      <td>-9.880</td>\n",
       "      <td>0.0279</td>\n",
       "      <td>0.32000</td>\n",
       "      <td>0.000061</td>\n",
       "      <td>0.0884</td>\n",
       "      <td>0.739</td>\n",
       "      <td>85.031</td>\n",
       "      <td>250360</td>\n",
       "    </tr>\n",
       "    <tr>\n",
       "      <th>2311</th>\n",
       "      <td>0.474</td>\n",
       "      <td>0.965</td>\n",
       "      <td>-8.327</td>\n",
       "      <td>0.0493</td>\n",
       "      <td>0.03850</td>\n",
       "      <td>0.002880</td>\n",
       "      <td>0.1710</td>\n",
       "      <td>0.544</td>\n",
       "      <td>159.875</td>\n",
       "      <td>221427</td>\n",
       "    </tr>\n",
       "    <tr>\n",
       "      <th>2312</th>\n",
       "      <td>0.625</td>\n",
       "      <td>0.767</td>\n",
       "      <td>-5.753</td>\n",
       "      <td>0.0477</td>\n",
       "      <td>0.00166</td>\n",
       "      <td>0.000789</td>\n",
       "      <td>0.0900</td>\n",
       "      <td>0.792</td>\n",
       "      <td>144.013</td>\n",
       "      <td>340200</td>\n",
       "    </tr>\n",
       "    <tr>\n",
       "      <th>2313</th>\n",
       "      <td>0.810</td>\n",
       "      <td>0.386</td>\n",
       "      <td>-7.846</td>\n",
       "      <td>0.3110</td>\n",
       "      <td>0.05290</td>\n",
       "      <td>0.009440</td>\n",
       "      <td>0.0969</td>\n",
       "      <td>0.506</td>\n",
       "      <td>157.919</td>\n",
       "      <td>235387</td>\n",
       "    </tr>\n",
       "  </tbody>\n",
       "</table>\n",
       "<p>2314 rows × 10 columns</p>\n",
       "</div>"
      ],
      "text/plain": [
       "      danceability  energy  loudness  speechiness  acousticness  \\\n",
       "0            0.950   0.891    -2.653       0.2410       0.06450   \n",
       "1            0.520   0.731    -5.338       0.0557       0.34200   \n",
       "2            0.836   0.743    -6.305       0.0656       0.09950   \n",
       "3            0.687   0.887    -5.040       0.0826       0.05750   \n",
       "4            0.625   0.533   -11.903       0.0596       0.65900   \n",
       "...            ...     ...       ...          ...           ...   \n",
       "2309         0.725   0.183   -20.140       0.0428       0.81800   \n",
       "2310         0.610   0.497    -9.880       0.0279       0.32000   \n",
       "2311         0.474   0.965    -8.327       0.0493       0.03850   \n",
       "2312         0.625   0.767    -5.753       0.0477       0.00166   \n",
       "2313         0.810   0.386    -7.846       0.3110       0.05290   \n",
       "\n",
       "      instrumentalness  liveness  valence    tempo  duration_ms  \n",
       "0             0.000018    0.3090    0.912  133.010       170977  \n",
       "1             0.001010    0.3110    0.662  173.930       167303  \n",
       "2             0.000000    0.3350    0.722  108.966       191822  \n",
       "3             0.000002    0.2700    0.853  114.941       278282  \n",
       "4             0.002660    0.0546    0.139  108.296       300840  \n",
       "...                ...       ...      ...      ...          ...  \n",
       "2309          0.000000    0.1090    0.510  116.026       204000  \n",
       "2310          0.000061    0.0884    0.739   85.031       250360  \n",
       "2311          0.002880    0.1710    0.544  159.875       221427  \n",
       "2312          0.000789    0.0900    0.792  144.013       340200  \n",
       "2313          0.009440    0.0969    0.506  157.919       235387  \n",
       "\n",
       "[2314 rows x 10 columns]"
      ]
     },
     "execution_count": 15,
     "metadata": {},
     "output_type": "execute_result"
    }
   ],
   "source": [
    "data1 = data.drop([\"song\", \"artist\",\"id\", \"song_label\"], axis = 1)\n",
    "data1"
   ]
  },
  {
   "cell_type": "code",
   "execution_count": 16,
   "id": "5c64a36d",
   "metadata": {},
   "outputs": [
    {
     "data": {
      "text/plain": [
       "array([[ 9.50000e-01,  8.91000e-01, -2.65300e+00, ...,  9.12000e-01,\n",
       "         1.33010e+02,  1.70977e+05],\n",
       "       [ 5.20000e-01,  7.31000e-01, -5.33800e+00, ...,  6.62000e-01,\n",
       "         1.73930e+02,  1.67303e+05],\n",
       "       [ 8.36000e-01,  7.43000e-01, -6.30500e+00, ...,  7.22000e-01,\n",
       "         1.08966e+02,  1.91822e+05],\n",
       "       ...,\n",
       "       [ 4.74000e-01,  9.65000e-01, -8.32700e+00, ...,  5.44000e-01,\n",
       "         1.59875e+02,  2.21427e+05],\n",
       "       [ 6.25000e-01,  7.67000e-01, -5.75300e+00, ...,  7.92000e-01,\n",
       "         1.44013e+02,  3.40200e+05],\n",
       "       [ 8.10000e-01,  3.86000e-01, -7.84600e+00, ...,  5.06000e-01,\n",
       "         1.57919e+02,  2.35387e+05]])"
      ]
     },
     "execution_count": 16,
     "metadata": {},
     "output_type": "execute_result"
    }
   ],
   "source": [
    "X = data1.to_numpy()\n",
    "X"
   ]
  },
  {
   "cell_type": "markdown",
   "id": "ed12c9cb",
   "metadata": {},
   "source": [
    "## First model\n",
    "creation fo an instance of DBSCAN and train the model."
   ]
  },
  {
   "cell_type": "code",
   "execution_count": 114,
   "id": "e83ca797",
   "metadata": {},
   "outputs": [],
   "source": [
    "model = DBSCAN(eps=0.4, min_samples=2)\n",
    "# fit model and predict clusters\n",
    "model.fit(X)\n",
    "bdscan_04_2 = model.fit_predict(X)\n"
   ]
  },
  {
   "cell_type": "code",
   "execution_count": 115,
   "id": "6e0584eb",
   "metadata": {},
   "outputs": [
    {
     "data": {
      "text/plain": [
       "array([-1, -1, -1, ..., -1, -1, -1])"
      ]
     },
     "execution_count": 115,
     "metadata": {},
     "output_type": "execute_result"
    }
   ],
   "source": [
    "bdscan_04_2"
   ]
  },
  {
   "cell_type": "code",
   "execution_count": 119,
   "id": "69da8349",
   "metadata": {},
   "outputs": [
    {
     "data": {
      "text/plain": [
       "-1    2308\n",
       " 0       2\n",
       " 1       2\n",
       " 2       2\n",
       "Name: bdscan_04_2, dtype: int64"
      ]
     },
     "execution_count": 119,
     "metadata": {},
     "output_type": "execute_result"
    }
   ],
   "source": [
    "data1[\"bdscan_04_2\"] = bdscan_04_2\n",
    "data1[\"bdscan_04_2\"].value_counts()"
   ]
  },
  {
   "cell_type": "markdown",
   "id": "284ce871",
   "metadata": {},
   "source": [
    "Now we collect the unique cluster predictions"
   ]
  },
  {
   "cell_type": "code",
   "execution_count": 112,
   "id": "db781d29",
   "metadata": {},
   "outputs": [
    {
     "data": {
      "text/plain": [
       "array([-1,  0,  1,  2])"
      ]
     },
     "execution_count": 112,
     "metadata": {},
     "output_type": "execute_result"
    }
   ],
   "source": [
    "# retrieve unique clusters\n",
    "clusters = np.unique(yhat)\n",
    "clusters # DBSCAN flags with \"-1\" noisy data."
   ]
  },
  {
   "cell_type": "markdown",
   "id": "39a115f6",
   "metadata": {},
   "source": [
    "Finally we visuallize the results"
   ]
  },
  {
   "cell_type": "code",
   "execution_count": 59,
   "id": "31dc2e4a",
   "metadata": {},
   "outputs": [
    {
     "name": "stderr",
     "output_type": "stream",
     "text": [
      "No artists with labels found to put in legend.  Note that artists whose label start with an underscore are ignored when legend() is called with no argument.\n"
     ]
    },
    {
     "data": {
      "image/png": "[encoded data removed]",
      "text/plain": [
       "<Figure size 432x288 with 1 Axes>"
      ]
     },
     "metadata": {
      "needs_background": "light"
     },
     "output_type": "display_data"
    }
   ],
   "source": [
    "%matplotlib inline\n",
    "#X_df['clusters'] = clusters\n",
    "# create scatter plot for samples from each cluster\n",
    "for cluster in clusters:\n",
    "\t# get row indexes for samples with this cluster\n",
    "\trow_ix = np.where(yhat == cluster)\n",
    "\t#X_df[X_df['clusters'] == cluster]\n",
    "\t# create scatter of these samples    \n",
    "\tplt.scatter(X[row_ix, 0], X[row_ix, 1])\n",
    "\t# plt.scatter(X_df.iloc[row_ix,0],X_df.iloc[row_ix,1])\n",
    "\n",
    "# show the plot\n",
    "plt.title(\"Clusters detected by DBSCAN, blue dots are considered Noise\")\n",
    "plt.legend()\n",
    "plt.show()"
   ]
  },
  {
   "cell_type": "markdown",
   "id": "23c4746a",
   "metadata": {},
   "source": [
    "## Fine tunning"
   ]
  },
  {
   "cell_type": "code",
   "execution_count": null,
   "id": "b9fd20cf",
   "metadata": {},
   "outputs": [],
   "source": [
    "In order to find out the best value for  𝜖 , we follow these steps:\n",
    "\n",
    "Compute the distance matrix between the all the observations\n",
    "We fix the number of nearest neighbours k > 2.\n",
    "We get all the distances from each point to it's k-nearest-neighbourgh.\n",
    "We sort all those distances in descending order.\n",
    "We plot those distances."
   ]
  },
  {
   "cell_type": "markdown",
   "id": "0a59da06",
   "metadata": {},
   "source": [
    "### Step 1"
   ]
  },
  {
   "cell_type": "code",
   "execution_count": 61,
   "id": "3f294d6d",
   "metadata": {},
   "outputs": [
    {
     "name": "stdout",
     "output_type": "stream",
     "text": [
      "[[     0.           3674.22890413  20845.01418936 ...  50450.00747618\n",
      "  169223.00038677  64410.00502962]\n",
      " [  3674.22890413      0.          24519.08608451 ...  54124.00190913\n",
      "  172897.00258938  68084.00193191]\n",
      " [ 20845.01418936  24519.08608451      0.         ...  29605.04384489\n",
      "  148378.0041405   43565.02753431]\n",
      " ...\n",
      " [ 50450.00747618  54124.00190913  29605.04384489 ...      0.\n",
      "  118773.00108762  13960.00016408]\n",
      " [169223.00038677 172897.00258938 148378.0041405  ... 118773.00108762\n",
      "       0.         104813.00094497]\n",
      " [ 64410.00502962  68084.00193191  43565.02753431 ...  13960.00016408\n",
      "  104813.00094497      0.        ]]\n",
      "\n"
     ]
    }
   ],
   "source": [
    "d = distance_matrix(X,X)\n",
    "print(d)\n",
    "print()"
   ]
  },
  {
   "cell_type": "markdown",
   "id": "d7d9e1f6",
   "metadata": {},
   "source": [
    "### Step 2"
   ]
  },
  {
   "cell_type": "markdown",
   "id": "195a6037",
   "metadata": {},
   "source": [
    "We need to sort this matrix by row and to ignore the first element as it is the distance to every point to itself (ie. 0)"
   ]
  },
  {
   "cell_type": "code",
   "execution_count": 64,
   "id": "898947a4",
   "metadata": {},
   "outputs": [
    {
     "name": "stdout",
     "output_type": "stream",
     "text": [
      "[[3.26362987e+01 4.83732876e+01 5.15040476e+01 ... 8.30796001e+05\n",
      "  8.87916000e+05 1.56015900e+06]\n",
      " [9.70533488e+01 9.97130106e+01 1.03707312e+02 ... 8.34470000e+05\n",
      "  8.91590002e+05 1.56383300e+06]\n",
      " [3.23127410e+01 6.39095004e+01 6.40567553e+01 ... 8.09951002e+05\n",
      "  8.67071000e+05 1.53931400e+06]\n",
      " ...\n",
      " [2.89849860e+01 4.59858816e+01 6.17086714e+01 ... 7.80346000e+05\n",
      "  8.37466001e+05 1.50970900e+06]\n",
      " [3.33037208e+02 4.97540666e+02 7.20403691e+02 ... 6.61573000e+05\n",
      "  7.18693001e+05 1.39093600e+06]\n",
      " [8.14397237e+01 1.68342741e+02 2.40023130e+02 ... 7.66386000e+05\n",
      "  8.23506001e+05 1.49574900e+06]]\n"
     ]
    }
   ],
   "source": [
    "d2 = np.sort(d)[:,1:]\n",
    "print(d2)"
   ]
  },
  {
   "cell_type": "markdown",
   "id": "8773e9a7",
   "metadata": {},
   "source": [
    "### Step 3"
   ]
  },
  {
   "cell_type": "markdown",
   "id": "a3bd7b88",
   "metadata": {},
   "source": [
    "We select the k-th column, for example k = 3 (ie. the distance from each point to it's 4-th nearest neighbourgh."
   ]
  },
  {
   "cell_type": "code",
   "execution_count": 72,
   "id": "4e979190",
   "metadata": {},
   "outputs": [
    {
     "name": "stdout",
     "output_type": "stream",
     "text": [
      "[110.78886435 133.28013361 102.02898568 ...  62.05340412 960.49771325\n",
      " 240.9740817 ]\n"
     ]
    }
   ],
   "source": [
    "f = d2[:,3]\n",
    "print(f) # The distances between every point and it's 4th nearest neighbour."
   ]
  },
  {
   "cell_type": "markdown",
   "id": "cf40ff2b",
   "metadata": {},
   "source": [
    "### Step 4"
   ]
  },
  {
   "cell_type": "markdown",
   "id": "b60df75d",
   "metadata": {},
   "source": [
    "We sort the 3-th distances in descending order."
   ]
  },
  {
   "cell_type": "code",
   "execution_count": 67,
   "id": "17ed93fd",
   "metadata": {},
   "outputs": [
    {
     "name": "stdout",
     "output_type": "stream",
     "text": [
      "\n",
      "[1.06104300e+06 3.90986003e+05 3.33866014e+05 ... 2.79012491e+01\n",
      " 2.75585093e+01 2.63228329e+01]\n"
     ]
    }
   ],
   "source": [
    "f_final = np.sort(f)[::-1]\n",
    "print()\n",
    "print(f_final)"
   ]
  },
  {
   "cell_type": "markdown",
   "id": "e0a8c76d",
   "metadata": {},
   "source": [
    "### Step 5"
   ]
  },
  {
   "cell_type": "markdown",
   "id": "9e603aaf",
   "metadata": {},
   "source": [
    "We plot those distances."
   ]
  },
  {
   "cell_type": "code",
   "execution_count": 68,
   "id": "d33cbf55",
   "metadata": {},
   "outputs": [
    {
     "name": "stderr",
     "output_type": "stream",
     "text": [
      "/var/folders/_k/1xyh1kms5gg3dls55pm6gkwr0000gn/T/ipykernel_77284/357253075.py:9: MatplotlibDeprecationWarning: The 'b' parameter of grid() has been renamed 'visible' since Matplotlib 3.5; support for the old name will be dropped two minor releases later.\n",
      "  plt.grid(b=True)\n"
     ]
    },
    {
     "data": {
      "image/png": "[encoded data removed]",
      "text/plain": [
       "<Figure size 432x288 with 1 Axes>"
      ]
     },
     "metadata": {
      "needs_background": "light"
     },
     "output_type": "display_data"
    }
   ],
   "source": [
    "plt.scatter(range(1,len(f_final)+1), f_final)\n",
    "plt.xlabel(\"Points\")\n",
    "plt.ylabel(\"Distance\")\n",
    "# Current selected settings for DBSCAN\n",
    "xnew = 20\n",
    "ynew = f_final[20]\n",
    "plt.axvline(xnew, color='red', linewidth=0.5)\n",
    "plt.axhline(ynew, color='red', linewidth=0.5)\n",
    "plt.grid(b=True)\n",
    "plt.show()"
   ]
  },
  {
   "cell_type": "code",
   "execution_count": 73,
   "id": "060c16f0",
   "metadata": {},
   "outputs": [
    {
     "data": {
      "text/plain": [
       "24327.00070394116"
      ]
     },
     "execution_count": 73,
     "metadata": {},
     "output_type": "execute_result"
    }
   ],
   "source": [
    "f_final[8]"
   ]
  },
  {
   "cell_type": "code",
   "execution_count": 74,
   "id": "b2137132",
   "metadata": {},
   "outputs": [
    {
     "data": {
      "text/plain": [
       "13406.004280210822"
      ]
     },
     "execution_count": 74,
     "metadata": {},
     "output_type": "execute_result"
    }
   ],
   "source": [
    "f_final[20]"
   ]
  },
  {
   "cell_type": "code",
   "execution_count": null,
   "id": "f074af54",
   "metadata": {},
   "outputs": [],
   "source": []
  }
 ],
 "metadata": {
  "kernelspec": {
   "display_name": "Python 3 (ipykernel)",
   "language": "python",
   "name": "python3"
  },
  "language_info": {
   "codemirror_mode": {
    "name": "ipython",
    "version": 3
   },
   "file_extension": ".py",
   "mimetype": "text/x-python",
   "name": "python",
   "nbconvert_exporter": "python",
   "pygments_lexer": "ipython3",
   "version": "3.9.12"
  }
 },
 "nbformat": 4,
 "nbformat_minor": 5
}
