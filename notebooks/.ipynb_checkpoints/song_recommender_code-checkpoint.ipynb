{
 "cells": [
  {
   "cell_type": "code",
   "execution_count": 1,
   "id": "77dd331f",
   "metadata": {},
   "outputs": [
    {
     "name": "stdout",
     "output_type": "stream",
     "text": [
      "/Users/origenolet/Desktop/Ironhack/Week6/Gnod_project_week6\n"
     ]
    }
   ],
   "source": [
    "#%cd ../"
   ]
  },
  {
   "cell_type": "code",
   "execution_count": 2,
   "id": "3c5621f3",
   "metadata": {},
   "outputs": [],
   "source": [
    "import pandas as pd\n",
    "import numpy as np\n",
    "from sklearn.preprocessing import StandardScaler\n",
    "from sklearn.cluster import KMeans\n",
    "from sklearn.metrics import silhouette_score\n",
    "import pickle\n",
    "import lib.functions as f\n",
    "from spotipy.oauth2 import SpotifyClientCredentials\n",
    "import sys\n",
    "import spotipy\n",
    "from time import sleep\n",
    "from random import randint\n",
    "from config import *\n",
    "import random"
   ]
  },
  {
   "cell_type": "code",
   "execution_count": 3,
   "id": "38822cfe",
   "metadata": {},
   "outputs": [],
   "source": [
    "sp = spotipy.Spotify(auth_manager=SpotifyClientCredentials(client_id= client_id,\n",
    "                                                           client_secret= client_secret))\n"
   ]
  },
  {
   "cell_type": "code",
   "execution_count": 60,
   "id": "4d251cf2",
   "metadata": {},
   "outputs": [],
   "source": [
    "def song_recommender(sp, songs, artists):\n",
    "    try:\n",
    "        ids = f.search_song(sp, songs, artists)\n",
    "        data = f.get_audio_features(sp, ids)\n",
    "        data = data.drop([\"key\", \"mode\", \"type\", \"id\", \"uri\", \"track_href\", \"analysis_url\", \"time_signature\"], axis = 1)\n",
    "        scaler = f.load(\"./transformer/scaler.pickle\")\n",
    "        data_norm = scaler.transform(data)\n",
    "        kmeans_9 = f.load(\"./models/kmeans_9.pickle\")\n",
    "        cluster = kmeans_9.predict(data_norm)\n",
    "        songs_final = pd.read_csv('./data/songs_with_clusters.csv')\n",
    "        hot = list(songs_final[songs_final[\"song_label\"] == \"H\"][\"id\"])\n",
    "        not_hot = list(songs_final[songs_final[\"song_label\"] == \"R\"][\"id\"])\n",
    "        if ids[0] in hot:\n",
    "            x = songs_final[(songs_final[\"clusters_kmeans\"] == cluster[0]) & (songs_final[\"song_label\"] == \"H\")]\n",
    "            x = x[x[\"id\"] != ids[0]]\n",
    "            recommended_song = x.sample(n=1)\n",
    "            return print(\"Recommended song for user: \" + \n",
    "                         list(recommended_song[[\"song\", \"artist\", \"id\"]].iloc[0])[0] +\n",
    "                         '\\n' + \"Artist: \", list(recommended_song[[\"song\", \"artist\", \"id\"]].iloc[0])[1] +\n",
    "                         '\\n' + \"Acces this song via: https://open.spotify.com/track/\" + list(recommended_song[[\"song\", \"artist\", \"id\"]].iloc[0])[2])                 \n",
    "        else:\n",
    "            y = songs_final[(songs_final[\"clusters_kmeans\"] == cluster[0]) & (songs_final[\"song_label\"] == \"R\")]\n",
    "            y = y[y[\"id\"] != ids[0]]\n",
    "            recommended_song2 = y.sample(n=1, replace = False)\n",
    "            return print(\"Recommended song for user: \" + \n",
    "                         list(recommended_song2[[\"song\", \"artist\"]].iloc[0])[0] +\n",
    "                         '\\n' + \"Artist: \", list(recommended_song2[[\"song\", \"artist\"]].iloc[0])[1] +\n",
    "                         '\\n' + \"Acces this song via: https://open.spotify.com/track/\" + list(recommended_song2[[\"song\", \"artist\", \"id\"]].iloc[0])[2]) \n",
    "    except:\n",
    "        return \"Song or artist not found\"\n"
   ]
  },
  {
   "cell_type": "code",
   "execution_count": 53,
   "id": "7ce9bddc",
   "metadata": {},
   "outputs": [
    {
     "name": "stdout",
     "output_type": "stream",
     "text": [
      "Enter a song: Super Freaky Girl\n",
      "Enter the song's artist: Nicki Minaj\n"
     ]
    }
   ],
   "source": [
    "songs = [input(\"Enter a song: \")]\n",
    "artists = [input(\"Enter the song's artist: \")]"
   ]
  },
  {
   "cell_type": "code",
   "execution_count": 58,
   "id": "aa2f0a1d",
   "metadata": {},
   "outputs": [
    {
     "name": "stdout",
     "output_type": "stream",
     "text": [
      "Recommended song for user: Puffin On Zootiez\n",
      "Artist:  Future\n",
      "Acces this song via: https://open.spotify.com/track/1qMMYpVatbRITKCfq1gasi\n"
     ]
    },
    {
     "name": "stderr",
     "output_type": "stream",
     "text": [
      "/Users/origenolet/opt/anaconda3/lib/python3.9/site-packages/sklearn/base.py:450: UserWarning: X does not have valid feature names, but KMeans was fitted with feature names\n",
      "  warnings.warn(\n"
     ]
    }
   ],
   "source": [
    "song_recommender(songs, artists)"
   ]
  },
  {
   "cell_type": "code",
   "execution_count": 38,
   "id": "88cf0e33",
   "metadata": {},
   "outputs": [
    {
     "data": {
      "text/html": [
       "<div>\n",
       "<style scoped>\n",
       "    .dataframe tbody tr th:only-of-type {\n",
       "        vertical-align: middle;\n",
       "    }\n",
       "\n",
       "    .dataframe tbody tr th {\n",
       "        vertical-align: top;\n",
       "    }\n",
       "\n",
       "    .dataframe thead th {\n",
       "        text-align: right;\n",
       "    }\n",
       "</style>\n",
       "<table border=\"1\" class=\"dataframe\">\n",
       "  <thead>\n",
       "    <tr style=\"text-align: right;\">\n",
       "      <th></th>\n",
       "      <th>song</th>\n",
       "      <th>artist</th>\n",
       "      <th>danceability</th>\n",
       "      <th>energy</th>\n",
       "      <th>loudness</th>\n",
       "      <th>speechiness</th>\n",
       "      <th>acousticness</th>\n",
       "      <th>instrumentalness</th>\n",
       "      <th>liveness</th>\n",
       "      <th>valence</th>\n",
       "      <th>tempo</th>\n",
       "      <th>id</th>\n",
       "      <th>duration_ms</th>\n",
       "      <th>song_label</th>\n",
       "      <th>clusters_kmeans</th>\n",
       "    </tr>\n",
       "  </thead>\n",
       "  <tbody>\n",
       "    <tr>\n",
       "      <th>0</th>\n",
       "      <td>Super Freaky Girl</td>\n",
       "      <td>Nicki Minaj</td>\n",
       "      <td>0.950</td>\n",
       "      <td>0.891</td>\n",
       "      <td>-2.653</td>\n",
       "      <td>0.2410</td>\n",
       "      <td>0.0645</td>\n",
       "      <td>0.000018</td>\n",
       "      <td>0.3090</td>\n",
       "      <td>0.912</td>\n",
       "      <td>133.010</td>\n",
       "      <td>4C6Uex2ILwJi9sZXRdmqXp</td>\n",
       "      <td>170977</td>\n",
       "      <td>H</td>\n",
       "      <td>4</td>\n",
       "    </tr>\n",
       "    <tr>\n",
       "      <th>1</th>\n",
       "      <td>As It Was</td>\n",
       "      <td>Harry Styles</td>\n",
       "      <td>0.520</td>\n",
       "      <td>0.731</td>\n",
       "      <td>-5.338</td>\n",
       "      <td>0.0557</td>\n",
       "      <td>0.3420</td>\n",
       "      <td>0.001010</td>\n",
       "      <td>0.3110</td>\n",
       "      <td>0.662</td>\n",
       "      <td>173.930</td>\n",
       "      <td>4LRPiXqCikLlN15c3yImP7</td>\n",
       "      <td>167303</td>\n",
       "      <td>H</td>\n",
       "      <td>0</td>\n",
       "    </tr>\n",
       "    <tr>\n",
       "      <th>2</th>\n",
       "      <td>About Damn Time</td>\n",
       "      <td>Lizzo</td>\n",
       "      <td>0.836</td>\n",
       "      <td>0.743</td>\n",
       "      <td>-6.305</td>\n",
       "      <td>0.0656</td>\n",
       "      <td>0.0995</td>\n",
       "      <td>0.000000</td>\n",
       "      <td>0.3350</td>\n",
       "      <td>0.722</td>\n",
       "      <td>108.966</td>\n",
       "      <td>1PckUlxKqWQs3RlWXVBLw3</td>\n",
       "      <td>191822</td>\n",
       "      <td>H</td>\n",
       "      <td>7</td>\n",
       "    </tr>\n",
       "    <tr>\n",
       "      <th>3</th>\n",
       "      <td>Break My Soul</td>\n",
       "      <td>Beyonce</td>\n",
       "      <td>0.687</td>\n",
       "      <td>0.887</td>\n",
       "      <td>-5.040</td>\n",
       "      <td>0.0826</td>\n",
       "      <td>0.0575</td>\n",
       "      <td>0.000002</td>\n",
       "      <td>0.2700</td>\n",
       "      <td>0.853</td>\n",
       "      <td>114.941</td>\n",
       "      <td>2KukL7UlQ8TdvpaA7bY3ZJ</td>\n",
       "      <td>278282</td>\n",
       "      <td>H</td>\n",
       "      <td>7</td>\n",
       "    </tr>\n",
       "    <tr>\n",
       "      <th>4</th>\n",
       "      <td>Running Up That Hill (A Deal With God)</td>\n",
       "      <td>Kate Bush</td>\n",
       "      <td>0.625</td>\n",
       "      <td>0.533</td>\n",
       "      <td>-11.903</td>\n",
       "      <td>0.0596</td>\n",
       "      <td>0.6590</td>\n",
       "      <td>0.002660</td>\n",
       "      <td>0.0546</td>\n",
       "      <td>0.139</td>\n",
       "      <td>108.296</td>\n",
       "      <td>29d0nY7TzCoi22XBqDQkiP</td>\n",
       "      <td>300840</td>\n",
       "      <td>H</td>\n",
       "      <td>1</td>\n",
       "    </tr>\n",
       "  </tbody>\n",
       "</table>\n",
       "</div>"
      ],
      "text/plain": [
       "                                     song        artist  danceability  energy  \\\n",
       "0                       Super Freaky Girl   Nicki Minaj         0.950   0.891   \n",
       "1                               As It Was  Harry Styles         0.520   0.731   \n",
       "2                         About Damn Time         Lizzo         0.836   0.743   \n",
       "3                           Break My Soul       Beyonce         0.687   0.887   \n",
       "4  Running Up That Hill (A Deal With God)     Kate Bush         0.625   0.533   \n",
       "\n",
       "   loudness  speechiness  acousticness  instrumentalness  liveness  valence  \\\n",
       "0    -2.653       0.2410        0.0645          0.000018    0.3090    0.912   \n",
       "1    -5.338       0.0557        0.3420          0.001010    0.3110    0.662   \n",
       "2    -6.305       0.0656        0.0995          0.000000    0.3350    0.722   \n",
       "3    -5.040       0.0826        0.0575          0.000002    0.2700    0.853   \n",
       "4   -11.903       0.0596        0.6590          0.002660    0.0546    0.139   \n",
       "\n",
       "     tempo                      id  duration_ms song_label  clusters_kmeans  \n",
       "0  133.010  4C6Uex2ILwJi9sZXRdmqXp       170977          H                4  \n",
       "1  173.930  4LRPiXqCikLlN15c3yImP7       167303          H                0  \n",
       "2  108.966  1PckUlxKqWQs3RlWXVBLw3       191822          H                7  \n",
       "3  114.941  2KukL7UlQ8TdvpaA7bY3ZJ       278282          H                7  \n",
       "4  108.296  29d0nY7TzCoi22XBqDQkiP       300840          H                1  "
      ]
     },
     "execution_count": 38,
     "metadata": {},
     "output_type": "execute_result"
    }
   ],
   "source": [
    "songs_final = pd.read_csv('./data/songs_with_clusters.csv')\n",
    "songs_final.head()"
   ]
  },
  {
   "cell_type": "code",
   "execution_count": 59,
   "id": "d944b938",
   "metadata": {},
   "outputs": [
    {
     "data": {
      "text/html": [
       "<div>\n",
       "<style scoped>\n",
       "    .dataframe tbody tr th:only-of-type {\n",
       "        vertical-align: middle;\n",
       "    }\n",
       "\n",
       "    .dataframe tbody tr th {\n",
       "        vertical-align: top;\n",
       "    }\n",
       "\n",
       "    .dataframe thead th {\n",
       "        text-align: right;\n",
       "    }\n",
       "</style>\n",
       "<table border=\"1\" class=\"dataframe\">\n",
       "  <thead>\n",
       "    <tr style=\"text-align: right;\">\n",
       "      <th></th>\n",
       "      <th>song</th>\n",
       "      <th>artist</th>\n",
       "      <th>danceability</th>\n",
       "      <th>energy</th>\n",
       "      <th>loudness</th>\n",
       "      <th>speechiness</th>\n",
       "      <th>acousticness</th>\n",
       "      <th>instrumentalness</th>\n",
       "      <th>liveness</th>\n",
       "      <th>valence</th>\n",
       "      <th>tempo</th>\n",
       "      <th>id</th>\n",
       "      <th>duration_ms</th>\n",
       "      <th>song_label</th>\n",
       "      <th>clusters_kmeans</th>\n",
       "    </tr>\n",
       "  </thead>\n",
       "  <tbody>\n",
       "    <tr>\n",
       "      <th>68</th>\n",
       "      <td>Puffin On Zootiez</td>\n",
       "      <td>Future</td>\n",
       "      <td>0.883</td>\n",
       "      <td>0.657</td>\n",
       "      <td>-5.748</td>\n",
       "      <td>0.305</td>\n",
       "      <td>0.0603</td>\n",
       "      <td>0.0</td>\n",
       "      <td>0.128</td>\n",
       "      <td>0.284</td>\n",
       "      <td>124.992</td>\n",
       "      <td>1qMMYpVatbRITKCfq1gasi</td>\n",
       "      <td>172933</td>\n",
       "      <td>H</td>\n",
       "      <td>4</td>\n",
       "    </tr>\n",
       "  </tbody>\n",
       "</table>\n",
       "</div>"
      ],
      "text/plain": [
       "                 song  artist  danceability  energy  loudness  speechiness  \\\n",
       "68  Puffin On Zootiez  Future         0.883   0.657    -5.748        0.305   \n",
       "\n",
       "    acousticness  instrumentalness  liveness  valence    tempo  \\\n",
       "68        0.0603               0.0     0.128    0.284  124.992   \n",
       "\n",
       "                        id  duration_ms song_label  clusters_kmeans  \n",
       "68  1qMMYpVatbRITKCfq1gasi       172933          H                4  "
      ]
     },
     "execution_count": 59,
     "metadata": {},
     "output_type": "execute_result"
    }
   ],
   "source": [
    "songs_final[songs_final[\"song\"] == \"Puffin On Zootiez\"]"
   ]
  },
  {
   "cell_type": "code",
   "execution_count": null,
   "id": "e2e37c23",
   "metadata": {},
   "outputs": [],
   "source": []
  }
 ],
 "metadata": {
  "kernelspec": {
   "display_name": "Python 3 (ipykernel)",
   "language": "python",
   "name": "python3"
  },
  "language_info": {
   "codemirror_mode": {
    "name": "ipython",
    "version": 3
   },
   "file_extension": ".py",
   "mimetype": "text/x-python",
   "name": "python",
   "nbconvert_exporter": "python",
   "pygments_lexer": "ipython3",
   "version": "3.9.12"
  }
 },
 "nbformat": 4,
 "nbformat_minor": 5
}
