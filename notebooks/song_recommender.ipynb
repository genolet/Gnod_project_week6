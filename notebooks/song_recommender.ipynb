{
 "cells": [
  {
   "cell_type": "code",
   "execution_count": 1,
   "id": "6d62a775",
   "metadata": {},
   "outputs": [
    {
     "name": "stdout",
     "output_type": "stream",
     "text": [
      "/Users/origenolet/Desktop/Ironhack/Week6/Gnod_project_week6\n"
     ]
    }
   ],
   "source": [
    "%cd ../"
   ]
  },
  {
   "cell_type": "code",
   "execution_count": 9,
   "id": "97e1eef2",
   "metadata": {},
   "outputs": [],
   "source": [
    "from spotipy.oauth2 import SpotifyClientCredentials\n",
    "import spotipy\n",
    "from config import *\n",
    "import lib.song_recommender as sr\n",
    "import lib.functions as f\n",
    "import pandas as pd"
   ]
  },
  {
   "cell_type": "code",
   "execution_count": 3,
   "id": "2681802e",
   "metadata": {},
   "outputs": [],
   "source": [
    "sp = spotipy.Spotify(auth_manager=SpotifyClientCredentials(client_id= client_id,\n",
    "                                                           client_secret= client_secret))"
   ]
  },
  {
   "cell_type": "code",
   "execution_count": 4,
   "id": "9762afed",
   "metadata": {},
   "outputs": [
    {
     "name": "stdout",
     "output_type": "stream",
     "text": [
      "Enter a song: Clarity\n",
      "Enter the song's artist: John Mayer\n"
     ]
    }
   ],
   "source": [
    "songs = [input(\"Enter a song: \")]\n",
    "artists = [input(\"Enter the song's artist: \")]"
   ]
  },
  {
   "cell_type": "code",
   "execution_count": 7,
   "id": "ebd4acbc",
   "metadata": {},
   "outputs": [
    {
     "name": "stdout",
     "output_type": "stream",
     "text": [
      "Recommended song for user: Hate On Me\n",
      "Artist:  Jill Scott\n",
      "Acces this song via: https://open.spotify.com/track/43xsmeThrcOkbjrvQvZB6o\n"
     ]
    }
   ],
   "source": [
    "sr.song_recommender(sp, songs, artists)"
   ]
  },
  {
   "cell_type": "code",
   "execution_count": 10,
   "id": "fe62fdcf",
   "metadata": {},
   "outputs": [
    {
     "data": {
      "text/html": [
       "<div>\n",
       "<style scoped>\n",
       "    .dataframe tbody tr th:only-of-type {\n",
       "        vertical-align: middle;\n",
       "    }\n",
       "\n",
       "    .dataframe tbody tr th {\n",
       "        vertical-align: top;\n",
       "    }\n",
       "\n",
       "    .dataframe thead th {\n",
       "        text-align: right;\n",
       "    }\n",
       "</style>\n",
       "<table border=\"1\" class=\"dataframe\">\n",
       "  <thead>\n",
       "    <tr style=\"text-align: right;\">\n",
       "      <th></th>\n",
       "      <th>song</th>\n",
       "      <th>artist</th>\n",
       "      <th>danceability</th>\n",
       "      <th>energy</th>\n",
       "      <th>loudness</th>\n",
       "      <th>speechiness</th>\n",
       "      <th>acousticness</th>\n",
       "      <th>instrumentalness</th>\n",
       "      <th>liveness</th>\n",
       "      <th>valence</th>\n",
       "      <th>tempo</th>\n",
       "      <th>id</th>\n",
       "      <th>duration_ms</th>\n",
       "      <th>song_label</th>\n",
       "      <th>clusters_kmeans</th>\n",
       "    </tr>\n",
       "  </thead>\n",
       "  <tbody>\n",
       "    <tr>\n",
       "      <th>1888</th>\n",
       "      <td>Hate On Me</td>\n",
       "      <td>Jill Scott</td>\n",
       "      <td>0.663</td>\n",
       "      <td>0.85</td>\n",
       "      <td>-3.804</td>\n",
       "      <td>0.0933</td>\n",
       "      <td>0.0243</td>\n",
       "      <td>0.000006</td>\n",
       "      <td>0.0972</td>\n",
       "      <td>0.2</td>\n",
       "      <td>92.939</td>\n",
       "      <td>43xsmeThrcOkbjrvQvZB6o</td>\n",
       "      <td>209013</td>\n",
       "      <td>R</td>\n",
       "      <td>8</td>\n",
       "    </tr>\n",
       "  </tbody>\n",
       "</table>\n",
       "</div>"
      ],
      "text/plain": [
       "            song      artist  danceability  energy  loudness  speechiness  \\\n",
       "1888  Hate On Me  Jill Scott         0.663    0.85    -3.804       0.0933   \n",
       "\n",
       "      acousticness  instrumentalness  liveness  valence   tempo  \\\n",
       "1888        0.0243          0.000006    0.0972      0.2  92.939   \n",
       "\n",
       "                          id  duration_ms song_label  clusters_kmeans  \n",
       "1888  43xsmeThrcOkbjrvQvZB6o       209013          R                8  "
      ]
     },
     "execution_count": 10,
     "metadata": {},
     "output_type": "execute_result"
    }
   ],
   "source": [
    "songs_final = pd.read_csv('./data/songs_with_clusters.csv')\n",
    "songs_final[songs_final[\"song\"] == \"Hate On Me\"]"
   ]
  },
  {
   "cell_type": "code",
   "execution_count": null,
   "id": "643c5cf0",
   "metadata": {},
   "outputs": [],
   "source": []
  }
 ],
 "metadata": {
  "kernelspec": {
   "display_name": "Python 3 (ipykernel)",
   "language": "python",
   "name": "python3"
  },
  "language_info": {
   "codemirror_mode": {
    "name": "ipython",
    "version": 3
   },
   "file_extension": ".py",
   "mimetype": "text/x-python",
   "name": "python",
   "nbconvert_exporter": "python",
   "pygments_lexer": "ipython3",
   "version": "3.9.12"
  }
 },
 "nbformat": 4,
 "nbformat_minor": 5
}
